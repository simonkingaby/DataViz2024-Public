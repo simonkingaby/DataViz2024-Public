{
 "cells": [
  {
   "cell_type": "code",
   "execution_count": 7,
   "metadata": {},
   "outputs": [],
   "source": [
    "import csv          # Import the csv module to read and write csv files\n",
    "import random       # Import the random module to generate random numbers and random choices\n",
    "import names        # Import the names module to generate random names\n",
    "\n",
    "def generate_sample_data(filename):\n",
    "    # first, we create a list of classes that we want to generate data for\n",
    "    classes = [\"Science\", \"Math\", \"Social Sciences\", \"English\", \"Art\", \n",
    "               \"Music\", \"Physical Education\", \"Computer Science\", \"Health\", \"Geography\", \n",
    "               \"Economics\", \"Psychology\", \"Sociology\", \"World Languages\", \"Theater Arts\", \n",
    "               \"Biology\", \"Chemistry\", \"Physics\", \"Calculus\", \"Statistics\"]\n",
    "    # then, we establish the header row for the csv file\n",
    "    header = [\"Class\", \"Section\", \"Teacher\", \"Student\", \"Assignment 1\", \"Assignment 2\", \"Assignment 3\", \"Assignment 4\", \"Assignment 5\", \"Exam\", \"Assignment 6\", \"Assignment 7\", \"Assignment 8\", \"Assignment 9\", \"Assignment 10\", \"Final Exam\"]\n",
    "    \n",
    "    # now we open the file and write the header row\n",
    "    with open(filename, \"w\", newline=\"\") as csvfile:\n",
    "        writer = csv.writer(csvfile)\n",
    "        writer.writerow(header)\n",
    "        \n",
    "        # then, we loop through each class and generate random data for each section of that class\n",
    "        for class_name in classes:\n",
    "            # determine the number of sections for this class\n",
    "            sections = random.randint(2, 8)\n",
    "            # loop through each section and generate random data for each student\n",
    "            for section in range(1, sections + 1):\n",
    "                # use names to get a name for the teacher\n",
    "                teacher_name = names.get_last_name()\n",
    "                # pick a number of students for this section\n",
    "                num_students = random.randint(22, 35)\n",
    "                # pick a number of graded assignments for this section\n",
    "                num_assignments = random.randint(7, 10)\n",
    "\n",
    "                # note, we don't actually need the loop index for anything, so we can use an underscore\n",
    "                # this a weird little pythonism that says \"I'm not going to use this variable, but I need to have something here\"\n",
    "                for _ in range(num_students):\n",
    "                    # generate a random name for the student\n",
    "                    student_name = names.get_full_name()\n",
    "                    # generate random grades for each assignment plus the mid-term exam (that's the +1 in the range)\n",
    "                    # note: this next line is a list comprehension, which is a tidy way to generate a list in python\n",
    "                    grades = [random.randint(50, 98) for _ in range(num_assignments+1)]  \n",
    "                    # now that we've graded all the assignments in this section, \n",
    "                    # we need to make sure that we have exactly 11 grades for each student\n",
    "                    # we'll fill in any missing assigment grades with \"N/A\"\n",
    "                    # because that assignment was not given to the students in this section\n",
    "                    if len(grades) < 11:\n",
    "                        # this next line is also a neat trick in python\n",
    "                        # it's a way to add multiple items to a list in one line\n",
    "                        # notice the square brackets around the \"N/A\" followed the multiplication sign\n",
    "                        # this is a way to generate a list with multiple copies of the same value\n",
    "                        # the number of copies is determined by the number after the multiplication sign\n",
    "                        # so, if we already have 8 grades, then we'll get 3 \"N/A\" values\n",
    "                        grades += [\"N/A\"] * (11 - len(grades))  \n",
    "                    # generate a random final exam grade for this student\n",
    "                    final_exam_grade = random.randint(50, 98)\n",
    "                    # finally, write the data for this student to the csv file\n",
    "                    writer.writerow([class_name, f\"Section {section}\", teacher_name, student_name] + grades + [final_exam_grade])\n",
    "\n",
    "# now we call the function to generate the sample data\n",
    "generate_sample_data(\"sample_class_data.csv\")"
   ]
  },
  {
   "cell_type": "code",
   "execution_count": null,
   "metadata": {},
   "outputs": [],
   "source": []
  }
 ],
 "metadata": {
  "kernelspec": {
   "display_name": "DataViz",
   "language": "python",
   "name": "python3"
  },
  "language_info": {
   "codemirror_mode": {
    "name": "ipython",
    "version": 3
   },
   "file_extension": ".py",
   "mimetype": "text/x-python",
   "name": "python",
   "nbconvert_exporter": "python",
   "pygments_lexer": "ipython3",
   "version": "3.11.9"
  }
 },
 "nbformat": 4,
 "nbformat_minor": 2
}
