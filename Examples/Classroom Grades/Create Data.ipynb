{
 "cells": [
  {
   "cell_type": "code",
   "execution_count": 7,
   "metadata": {},
   "outputs": [],
   "source": [
    "import csv\n",
    "import random\n",
    "import names\n",
    "\n",
    "def generate_sample_data(filename):\n",
    "    classes = [\"Science\", \"Math\", \"Social Sciences\", \"English\", \"Art\", \n",
    "               \"Music\", \"Physical Education\", \"Computer Science\", \"Health\", \"Geography\", \n",
    "               \"Economics\", \"Psychology\", \"Sociology\", \"World Languages\", \"Theater Arts\", \n",
    "               \"Biology\", \"Chemistry\", \"Physics\", \"Calculus\", \"Statistics\"]\n",
    "    header = [\"Class\", \"Section\", \"Teacher\", \"Student\", \"Assignment 1\", \"Assignment 2\", \"Assignment 3\", \"Assignment 4\", \"Assignment 5\", \"Exam\", \"Assignment 6\", \"Assignment 7\", \"Assignment 8\", \"Assignment 9\", \"Assignment 10\", \"Final Exam\"]\n",
    "    \n",
    "    with open(filename, \"w\", newline=\"\") as csvfile:\n",
    "        writer = csv.writer(csvfile)\n",
    "        writer.writerow(header)\n",
    "        \n",
    "        for class_name in classes:\n",
    "            sections = random.randint(2, 8)  # Number of sections per class\n",
    "            for section in range(1, sections + 1):\n",
    "                teacher_name = names.get_last_name()\n",
    "                num_students = random.randint(22, 35)  # Number of students per section\n",
    "                num_assignments = random.randint(7, 10)  # Number of assignments per section\n",
    "                for _ in range(num_students):\n",
    "                    student_name = names.get_full_name()\n",
    "                    grades = [random.randint(50, 98) for _ in range(num_assignments+1)]  # Random grades for each assignment plus the mid-term\n",
    "                    if len(grades) < 11:\n",
    "                        grades += [\"N/A\"] * (11 - len(grades))  # Fill missing assignments with N/A\n",
    "                    final_exam_grade = random.randint(50, 98)\n",
    "                    writer.writerow([class_name, f\"Section {section}\", teacher_name, student_name] + grades + [final_exam_grade])\n",
    "\n",
    "generate_sample_data(\"sample_class_data.csv\")"
   ]
  },
  {
   "cell_type": "code",
   "execution_count": null,
   "metadata": {},
   "outputs": [],
   "source": []
  }
 ],
 "metadata": {
  "kernelspec": {
   "display_name": "DataViz",
   "language": "python",
   "name": "python3"
  },
  "language_info": {
   "codemirror_mode": {
    "name": "ipython",
    "version": 3
   },
   "file_extension": ".py",
   "mimetype": "text/x-python",
   "name": "python",
   "nbconvert_exporter": "python",
   "pygments_lexer": "ipython3",
   "version": "3.11.9"
  }
 },
 "nbformat": 4,
 "nbformat_minor": 2
}
